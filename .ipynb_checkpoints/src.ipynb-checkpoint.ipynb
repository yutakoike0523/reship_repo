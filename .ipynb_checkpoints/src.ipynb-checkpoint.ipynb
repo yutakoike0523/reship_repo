{
 "cells": [
  {
   "cell_type": "code",
   "execution_count": null,
   "id": "12156ce2-1a30-4fd6-89e3-076555cf3b9a",
   "metadata": {},
   "outputs": [],
   "source": []
  }
 ],
 "metadata": {
  "kernelspec": {
   "display_name": "",
   "name": ""
  },
  "language_info": {
   "name": ""
  }
 },
 "nbformat": 4,
 "nbformat_minor": 5
}
